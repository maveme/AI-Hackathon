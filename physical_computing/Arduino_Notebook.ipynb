{
 "cells": [
  {
   "cell_type": "markdown",
   "id": "bbff4b73",
   "metadata": {},
   "source": [
    "# <h1><center> **Hackathon AI - VU Amsterdam** </center></h1>\n",
    "\n",
    "<h2><center>ARDUINO PROGRAMMING</center></h2>"
   ]
  },
  {
   "cell_type": "markdown",
   "id": "9ccf5081",
   "metadata": {},
   "source": [
    "To start working with the Arduino you must download their programming environment:\n",
    "* Arduino IDE : [Download](https://www.arduino.cc/en/software)\n",
    "\n"
   ]
  },
  {
   "cell_type": "markdown",
   "id": "8cf6a4ff",
   "metadata": {},
   "source": [
    "For some basic programming guidelines in Arduino, please look at the following document:\n",
    "* Arduino programming notebook: [PDF](http://engineering.nyu.edu/gk12/amps-cbri/pdf/ArduinoBooks/Arduino%20Programming%20Notebook.pdf)"
   ]
  },
  {
   "cell_type": "markdown",
   "id": "7fb62f3d",
   "metadata": {},
   "source": [
    "---\n",
    "\n",
    "&copy; 2022 - **VU Amsterdam**"
   ]
  }
 ],
 "metadata": {
  "kernelspec": {
   "display_name": "Python 3.9.6 64-bit",
   "language": "python",
   "name": "python3"
  },
  "language_info": {
   "codemirror_mode": {
    "name": "ipython",
    "version": 3
   },
   "file_extension": ".py",
   "mimetype": "text/x-python",
   "name": "python",
   "nbconvert_exporter": "python",
   "pygments_lexer": "ipython3",
   "version": "3.9.6"
  },
  "vscode": {
   "interpreter": {
    "hash": "31f2aee4e71d21fbe5cf8b01ff0e069b9275f58929596ceb00d14d90e3e16cd6"
   }
  }
 },
 "nbformat": 4,
 "nbformat_minor": 5
}
